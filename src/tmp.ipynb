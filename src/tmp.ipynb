{
 "cells": [
  {
   "cell_type": "code",
   "execution_count": 2,
   "metadata": {},
   "outputs": [],
   "source": [
    "import numpy as np"
   ]
  },
  {
   "cell_type": "code",
   "execution_count": 3,
   "metadata": {},
   "outputs": [
    {
     "data": {
      "text/plain": [
       "array([[[0.   , 1.   , 0.5  ],\n",
       "        [1.   , 0.   , 1.   ],\n",
       "        [0.5  , 1.   , 0.   ]],\n",
       "\n",
       "       [[0.   , 1.   , 0.25 ],\n",
       "        [1.   , 0.   , 1.   ],\n",
       "        [0.25 , 1.   , 0.   ]],\n",
       "\n",
       "       [[0.   , 1.   , 0.125],\n",
       "        [1.   , 0.   , 1.   ],\n",
       "        [0.125, 1.   , 0.   ]]])"
      ]
     },
     "execution_count": 3,
     "metadata": {},
     "output_type": "execute_result"
    }
   ],
   "source": [
    "def get_distance_mask(L):\n",
    "    m = np.zeros((3, L, L))\n",
    "\n",
    "    for i in range(L):\n",
    "        for j in range(L):\n",
    "            for k in range(3):\n",
    "                if abs(i - j) > 0:\n",
    "                    m[k, i, j] = 1 / abs(i - j) ** (k + 1)\n",
    "    return m\n",
    "\n",
    "get_distance_mask(3)"
   ]
  },
  {
   "cell_type": "code",
   "execution_count": 4,
   "metadata": {},
   "outputs": [
    {
     "name": "stdout",
     "output_type": "stream",
     "text": [
      "1\n",
      "2\n"
     ]
    },
    {
     "ename": "",
     "evalue": "",
     "output_type": "error",
     "traceback": [
      "\u001b[1;31mThe Kernel crashed while executing code in the the current cell or a previous cell. Please review the code in the cell(s) to identify a possible cause of the failure. Click <a href='https://aka.ms/vscodeJupyterKernelCrash'>here</a> for more info. View Jupyter <a href='command:jupyter.viewOutput'>log</a> for further details."
     ]
    }
   ],
   "source": [
    "def tmp():\n",
    "    print(1)\n",
    "    for _ in range(1):\n",
    "        exit()\n",
    "    print(2)\n",
    "\n",
    "tmp()"
   ]
  },
  {
   "cell_type": "code",
   "execution_count": 6,
   "metadata": {},
   "outputs": [
    {
     "data": {
      "text/plain": [
       "array([[1, 1, 1, 0, 0, 0],\n",
       "       [1, 1, 1, 1, 0, 0],\n",
       "       [1, 1, 1, 1, 1, 0]], dtype=int8)"
      ]
     },
     "execution_count": 6,
     "metadata": {},
     "output_type": "execute_result"
    }
   ],
   "source": [
    "def generate_src_mask(L1, L2, k):\n",
    "    mask = np.ones((k, L2), dtype=\"int8\")\n",
    "    for i in range(k):\n",
    "        mask[i, L1 + i + 1 - k :] = 0\n",
    "    return mask\n",
    "\n",
    "generate_src_mask(5, 6, 3)"
   ]
  },
  {
   "cell_type": "code",
   "execution_count": 7,
   "metadata": {},
   "outputs": [
    {
     "name": "stdout",
     "output_type": "stream",
     "text": [
      "100%|██████████████████████████████████████| 49.6M/49.6M [00:13<00:00, 3.73MB/s]\n",
      "100%|██████████████████████████████████████| 49.6M/49.6M [00:09<00:00, 5.72MB/s]ion\n",
      "100%|██████████████████████████████████████| 49.7M/49.7M [00:08<00:00, 5.89MB/s]ion\n",
      "100%|██████████████████████████████████████| 49.7M/49.7M [00:10<00:00, 4.99MB/s]ion\n",
      "100%|██████████████████████████████████████| 49.6M/49.6M [00:07<00:00, 6.62MB/s]ion\n",
      "Successfully submitted to OpenVaccine: COVID-19 mRNA Vaccine Degradation Prediction"
     ]
    }
   ],
   "source": [
    "for i in range(5):\n",
    "    ! kaggle competitions submit -c stanford-covid-vaccine -f best_weights_subs/submission_fold{i}.csv -m \"Message\""
   ]
  }
 ],
 "metadata": {
  "kernelspec": {
   "display_name": "venv",
   "language": "python",
   "name": "python3"
  },
  "language_info": {
   "codemirror_mode": {
    "name": "ipython",
    "version": 3
   },
   "file_extension": ".py",
   "mimetype": "text/x-python",
   "name": "python",
   "nbconvert_exporter": "python",
   "pygments_lexer": "ipython3",
   "version": "3.10.12"
  }
 },
 "nbformat": 4,
 "nbformat_minor": 2
}
